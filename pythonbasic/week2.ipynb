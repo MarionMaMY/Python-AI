{
 "cells": [
  {
   "cell_type": "markdown",
   "metadata": {},
   "source": [
    "# def 函数\n",
    "\n",
    "**DRY rule：In software,don't repeat yourself**"
   ]
  },
  {
   "cell_type": "code",
   "execution_count": 35,
   "metadata": {
    "collapsed": true
   },
   "outputs": [],
   "source": [
    "def function_name(parameters):\n",
    "    expressions"
   ]
  },
  {
   "cell_type": "code",
   "execution_count": 36,
   "metadata": {},
   "outputs": [
    {
     "name": "stdout",
     "output_type": "stream",
     "text": [
      "AdiAdi 8.4\n"
     ]
    }
   ],
   "source": [
    "def double_print(object1,object2):\n",
    "    print(object1 *2,object2 * 2)\n",
    "    \n",
    "double_print('Adi',4.2)"
   ]
  },
  {
   "cell_type": "markdown",
   "metadata": {},
   "source": [
    "### 函数默认参数\n"
   ]
  },
  {
   "cell_type": "code",
   "execution_count": 37,
   "metadata": {},
   "outputs": [
    {
     "name": "stdout",
     "output_type": "stream",
     "text": [
      "price: 100dollar sex: female brand: Adidas is_second_hand: False\n"
     ]
    }
   ],
   "source": [
    "def sale_robot(price, sex, brand='Adidas',is_second_hand=False):\n",
    "    print('price:',price,\n",
    "         'sex:',sex,\n",
    "         'brand:', brand,\n",
    "         'is_second_hand:', is_second_hand,)\n",
    "\n",
    "sale_robot('100dollar', 'female')"
   ]
  },
  {
   "cell_type": "code",
   "execution_count": null,
   "metadata": {
    "collapsed": true
   },
   "outputs": [],
   "source": [
    "if __name__ == '__main__': \n",
    "    #  自调用"
   ]
  },
  {
   "cell_type": "code",
   "execution_count": null,
   "metadata": {
    "collapsed": true
   },
   "outputs": [],
   "source": [
    "def report(name, *grades): # *grades使用* 来装饰，表明是可变参数，是可迭代的对象\n",
    "    total_grade = 0\n",
    "    for grade in grades:\n",
    "        total_grade += grade\n",
    "    print(name, 'total grade is', total_grade)\n",
    "\n",
    "report('Adi', 100,99,98)    \n",
    "report('Jerry', 100)"
   ]
  },
  {
   "cell_type": "code",
   "execution_count": null,
   "metadata": {
    "collapsed": true
   },
   "outputs": [],
   "source": [
    "def portrait(name, **kw): # **kw,表明是关键字参数\n",
    "    print('name is', name)\n",
    "    for k,v in kw.items(): #items 字典(Dictionary) items() 函数以列表返回可遍历的(键, 值) 元组数组。\n",
    "        print(k,v) # k is key，v is value\n",
    "        \n",
    "portrait('Jerry', age = 29, country='China',education='Master',skill='Python')       "
   ]
  },
  {
   "cell_type": "markdown",
   "metadata": {},
   "source": [
    "**通过可变参数和关键字参数，任何函数都可以用 universal_func(*args, **kw) 表达"
   ]
  },
  {
   "cell_type": "markdown",
   "metadata": {},
   "source": [
    "# 变量形式\n",
    "\n",
    " - 全局变量\n",
    " - 局部变量"
   ]
  },
  {
   "cell_type": "markdown",
   "metadata": {},
   "source": [
    "## Class类"
   ]
  },
  {
   "cell_type": "code",
   "execution_count": null,
   "metadata": {
    "collapsed": true
   },
   "outputs": [],
   "source": [
    "class Calculator: # 首字母大写\n",
    "    name = 'Suck Calculator' # class 的属性 name \n",
    "    price = 18\n",
    "    def add(self,x,y): # self 是默认值\n",
    "        print(self.name)\n",
    "        result = x + y\n",
    "        print(result)\n",
    "    def minus(self,x,y):\n",
    "        result=x-y\n",
    "        print(result)\n",
    "    def times(self,x,y):\n",
    "        print(x*y)\n",
    "    def divide(self,x,y):\n",
    "        print(x/y)"
   ]
  },
  {
   "cell_type": "code",
   "execution_count": null,
   "metadata": {
    "collapsed": true
   },
   "outputs": [],
   "source": [
    "cal = Calculator() # must type()\n",
    "cal.name"
   ]
  },
  {
   "cell_type": "code",
   "execution_count": null,
   "metadata": {
    "collapsed": true
   },
   "outputs": [],
   "source": [
    "cal.price"
   ]
  },
  {
   "cell_type": "code",
   "execution_count": null,
   "metadata": {
    "collapsed": true
   },
   "outputs": [],
   "source": [
    "cal.add(13,34)"
   ]
  },
  {
   "cell_type": "code",
   "execution_count": null,
   "metadata": {
    "collapsed": true
   },
   "outputs": [],
   "source": [
    "cal.minus(23,23)"
   ]
  },
  {
   "cell_type": "code",
   "execution_count": null,
   "metadata": {
    "collapsed": true
   },
   "outputs": [],
   "source": [
    "cal.divide(34,45)"
   ]
  },
  {
   "cell_type": "code",
   "execution_count": null,
   "metadata": {
    "collapsed": true
   },
   "outputs": [],
   "source": [
    "5 == True # 问 Computer，5是否等于 True？"
   ]
  },
  {
   "cell_type": "markdown",
   "metadata": {
    "collapsed": true
   },
   "source": [
    "# input"
   ]
  },
  {
   "cell_type": "code",
   "execution_count": null,
   "metadata": {
    "collapsed": true
   },
   "outputs": [],
   "source": [
    "a_input=input('please input a number:')\n",
    "print('this number is:',a_input)"
   ]
  },
  {
   "cell_type": "code",
   "execution_count": null,
   "metadata": {
    "collapsed": true
   },
   "outputs": [],
   "source": [
    "a_input=int(input('please input a number')) # define int\n",
    "if a_input==1:\n",
    "    print('This is a good one')\n",
    "elif a_input==2:\n",
    "    print('See you next time')\n",
    "else:\n",
    "    print('Good luck')"
   ]
  },
  {
   "cell_type": "code",
   "execution_count": null,
   "metadata": {
    "collapsed": true
   },
   "outputs": [],
   "source": [
    "score=int(input('Please input your socre: \\n'))\n",
    "if score>=90:\n",
    "    print('Congradulation, you get an A')\n",
    "elif score>=80:\n",
    "    print('You get a B')\n",
    "elif score>=70:\n",
    "    print('You get a C')\n",
    "elif score>=60:\n",
    "    print(\"You get a D\")\n",
    "else:\n",
    "    print('Sorry, you are failed')\n",
    "    "
   ]
  },
  {
   "cell_type": "markdown",
   "metadata": {},
   "source": [
    "## 元组 Tuple，列表 list，字典 Dictionary"
   ]
  },
  {
   "cell_type": "code",
   "execution_count": null,
   "metadata": {
    "collapsed": true
   },
   "outputs": [],
   "source": [
    "a_tuple = (12,3,5,15,6)\n",
    "another_tuple = (3,34,5,66,453)\n",
    "print(a_tuple)\n",
    "print(another_tuple)\n"
   ]
  },
  {
   "cell_type": "code",
   "execution_count": null,
   "metadata": {
    "collapsed": true
   },
   "outputs": [],
   "source": [
    "another_boring_list = [1,3,5,5,5,]"
   ]
  },
  {
   "cell_type": "code",
   "execution_count": null,
   "metadata": {
    "collapsed": true
   },
   "outputs": [],
   "source": [
    "for content in a_tuple:\n",
    "    print(content)\n",
    "\n",
    "for v in another_boring_list:\n",
    "    print(v)"
   ]
  },
  {
   "cell_type": "code",
   "execution_count": null,
   "metadata": {
    "collapsed": true
   },
   "outputs": [],
   "source": [
    "for index in range(len(another_boring_list)):\n",
    "    print(\"index=\",index,\", number in list = \",another_boring_list[index])\n",
    "    \n",
    "for index in range(len(a_tuple)):\n",
    "    print(\"index=\",index,\", number in list = \",a_tuple[index])"
   ]
  },
  {
   "cell_type": "code",
   "execution_count": null,
   "metadata": {
    "collapsed": true
   },
   "outputs": [],
   "source": [
    "a = [1,2,4,5,6,6,6]\n",
    "a.append(0)\n",
    "print(a)"
   ]
  },
  {
   "cell_type": "code",
   "execution_count": null,
   "metadata": {
    "collapsed": true
   },
   "outputs": [],
   "source": [
    "a.insert(1,0)\n",
    "print(a)"
   ]
  },
  {
   "cell_type": "code",
   "execution_count": null,
   "metadata": {
    "collapsed": true
   },
   "outputs": [],
   "source": [
    "a.remove(6)\n",
    "print(a)"
   ]
  },
  {
   "cell_type": "code",
   "execution_count": null,
   "metadata": {
    "collapsed": true
   },
   "outputs": [],
   "source": [
    "print(a[-1]) \n",
    "print(a[0:3])\n",
    "print(a[5:]) \n",
    "print(a[-3:]) "
   ]
  },
  {
   "cell_type": "code",
   "execution_count": null,
   "metadata": {
    "collapsed": true
   },
   "outputs": [],
   "source": [
    "print(a.index(6))"
   ]
  },
  {
   "cell_type": "code",
   "execution_count": null,
   "metadata": {
    "collapsed": true
   },
   "outputs": [],
   "source": [
    "print(a.count(6))"
   ]
  },
  {
   "cell_type": "code",
   "execution_count": null,
   "metadata": {
    "collapsed": true
   },
   "outputs": [],
   "source": [
    "a = [1,2,3,4,5]\n",
    "multi_dim_a = [[1,2,3],[2,3,4],[3,4,5]] # 三行三列"
   ]
  },
  {
   "cell_type": "code",
   "execution_count": null,
   "metadata": {
    "collapsed": true
   },
   "outputs": [],
   "source": [
    "print(multi_dim_a[2])\n",
    "print(multi_dim_a[2][1])"
   ]
  },
  {
   "cell_type": "code",
   "execution_count": null,
   "metadata": {
    "collapsed": true
   },
   "outputs": [],
   "source": [
    "a_list = [1,2,3,4,5,6,7,8]\n",
    "d1 = {'apple':1, 'pear':2, 'orange':3}\n",
    "d2 = {1:'a', 2:'b', 3:'c'}\n",
    "d3 = {1:'a', 'b':2, 'c':3}"
   ]
  },
  {
   "cell_type": "code",
   "execution_count": null,
   "metadata": {
    "collapsed": true
   },
   "outputs": [],
   "source": [
    "print(d1['apple'])"
   ]
  },
  {
   "cell_type": "code",
   "execution_count": null,
   "metadata": {
    "collapsed": true
   },
   "outputs": [],
   "source": [
    "del d1['pear']\n",
    "print(d1)"
   ]
  },
  {
   "cell_type": "code",
   "execution_count": null,
   "metadata": {
    "collapsed": true
   },
   "outputs": [],
   "source": [
    "d1['banana'] = 28\n",
    "print(d1)"
   ]
  },
  {
   "cell_type": "code",
   "execution_count": null,
   "metadata": {
    "collapsed": true
   },
   "outputs": [],
   "source": [
    "def func():\n",
    "    return 0\n",
    "d4 = {'apple':[1,2,3], 'pear':{1:3, 3:'a'}, 'orange':func}\n",
    "print(d4['pear'][3])    # a"
   ]
  },
  {
   "cell_type": "markdown",
   "metadata": {},
   "source": [
    "### continue & break"
   ]
  },
  {
   "cell_type": "code",
   "execution_count": null,
   "metadata": {
    "collapsed": true
   },
   "outputs": [],
   "source": [
    "a = True\n",
    "while a:\n",
    "    b=input('type some stuff')\n",
    "    if b=='1':\n",
    "       a=False # 根据False的返回值，会执行下面的代码语句\n",
    "    else:\n",
    "        pass\n",
    "    print('still in while')\n",
    "print('running finish')"
   ]
  },
  {
   "cell_type": "code",
   "execution_count": null,
   "metadata": {
    "collapsed": true
   },
   "outputs": [],
   "source": [
    "a = True\n",
    "while a:\n",
    "    b=input('type some stuff')\n",
    "    if b=='1':\n",
    "        break  #  break 直接终止，不执行下面的语句\n",
    "    else:\n",
    "        pass # pass是空语句，是为了保持程序结构的完整性。\n",
    "             # 不做任何事情，一般用做占位语句。\n",
    "    print('still in while')\n",
    "print('running finish')"
   ]
  },
  {
   "cell_type": "markdown",
   "metadata": {},
   "source": [
    "### Try 错误处理"
   ]
  },
  {
   "cell_type": "code",
   "execution_count": 1,
   "metadata": {},
   "outputs": [
    {
     "name": "stdout",
     "output_type": "stream",
     "text": [
      "[Errno 2] No such file or directory: 'eeee.txt'\n"
     ]
    }
   ],
   "source": [
    "try:\n",
    "    file=open('eeee.txt', 'r') # error must occur \n",
    "except Exception as e: # 将报错\n",
    "    print(e)"
   ]
  },
  {
   "cell_type": "code",
   "execution_count": 2,
   "metadata": {},
   "outputs": [
    {
     "name": "stdout",
     "output_type": "stream",
     "text": [
      "[Errno 2] No such file or directory: 'eeee.txt'\n",
      "do you want to create a new file:2\n"
     ]
    }
   ],
   "source": [
    "try:\n",
    "    file = open('eeee.txt','r+')\n",
    "except Exception as e:\n",
    "    print(e)\n",
    "    response = input('do you want to create a new file:')\n",
    "    if response=='y':\n",
    "        file = open('eeee.txt','w')\n",
    "    else:\n",
    "        pass\n",
    "else:\n",
    "    file.write('ssss')\n",
    "    file.close()"
   ]
  },
  {
   "cell_type": "markdown",
   "metadata": {
    "collapsed": true
   },
   "source": [
    "# Zip lamdba map"
   ]
  },
  {
   "cell_type": "code",
   "execution_count": 3,
   "metadata": {},
   "outputs": [
    {
     "data": {
      "text/plain": [
       "<zip at 0x1030b6808>"
      ]
     },
     "execution_count": 3,
     "metadata": {},
     "output_type": "execute_result"
    }
   ],
   "source": [
    "a = [1,2,3]\n",
    "b = [4,5,6]\n",
    "\n",
    "zip(a,b)"
   ]
  },
  {
   "cell_type": "code",
   "execution_count": 7,
   "metadata": {},
   "outputs": [
    {
     "name": "stdout",
     "output_type": "stream",
     "text": [
      "[(1, 4), (2, 5), (3, 6)]\n"
     ]
    }
   ],
   "source": [
    "# add list() to visulize it\n",
    "print(list(zip(a,b)))"
   ]
  },
  {
   "cell_type": "code",
   "execution_count": 9,
   "metadata": {},
   "outputs": [
    {
     "name": "stdout",
     "output_type": "stream",
     "text": [
      "[(1, 4), (2, 5), (3, 6)]\n",
      "0.5 8\n",
      "1.0 10\n",
      "1.5 12\n"
     ]
    }
   ],
   "source": [
    "ab = zip(a,b)\n",
    "print(list(ab))\n",
    "for i,j in zip(a,b): # 直接用 ab 不行\n",
    "    print(i/2, j*2)\n"
   ]
  },
  {
   "cell_type": "code",
   "execution_count": 13,
   "metadata": {},
   "outputs": [
    {
     "name": "stdout",
     "output_type": "stream",
     "text": [
      "x=2\n",
      "y=4\n",
      "6\n"
     ]
    }
   ],
   "source": [
    "fun= lambda x,y:x+y  # pythonic 崇尚简洁\n",
    "x = int(input('x='))\n",
    "y = int(input('y='))\n",
    "print(fun(x,y))"
   ]
  },
  {
   "cell_type": "code",
   "execution_count": 14,
   "metadata": {},
   "outputs": [
    {
     "data": {
      "text/plain": [
       "[3]"
      ]
     },
     "execution_count": 14,
     "metadata": {},
     "output_type": "execute_result"
    }
   ],
   "source": [
    "# map是把函数和参数绑在一起\n",
    "def fun(x,y):\n",
    "    return (x+y)\n",
    "list(map(fun,[1],[2]))"
   ]
  },
  {
   "cell_type": "code",
   "execution_count": 15,
   "metadata": {},
   "outputs": [
    {
     "data": {
      "text/plain": [
       "[4, 6]"
      ]
     },
     "execution_count": 15,
     "metadata": {},
     "output_type": "execute_result"
    }
   ],
   "source": [
    "list(map(fun,[1,2],[3,4]))"
   ]
  },
  {
   "cell_type": "code",
   "execution_count": 16,
   "metadata": {},
   "outputs": [
    {
     "data": {
      "text/plain": [
       "4346045960"
      ]
     },
     "execution_count": 16,
     "metadata": {},
     "output_type": "execute_result"
    }
   ],
   "source": [
    "import copy\n",
    "\n",
    "a = [3,4,5]\n",
    "\n",
    "a = b\n",
    "\n",
    "id(a)"
   ]
  },
  {
   "cell_type": "code",
   "execution_count": 17,
   "metadata": {},
   "outputs": [
    {
     "data": {
      "text/plain": [
       "4346045960"
      ]
     },
     "execution_count": 17,
     "metadata": {},
     "output_type": "execute_result"
    }
   ],
   "source": [
    "id(b) #  两者 id（内存中的地址） 雷同，改一个，另一个也会同步更改"
   ]
  },
  {
   "cell_type": "code",
   "execution_count": 20,
   "metadata": {},
   "outputs": [
    {
     "data": {
      "text/plain": [
       "4344779336"
      ]
     },
     "execution_count": 20,
     "metadata": {},
     "output_type": "execute_result"
    }
   ],
   "source": [
    "# 浅拷贝 拷贝的最外围的对象本身，内部的元素只是拷贝了一个引用\n",
    "c = copy.copy(a)\n",
    "id(c)"
   ]
  },
  {
   "cell_type": "code",
   "execution_count": 21,
   "metadata": {},
   "outputs": [
    {
     "name": "stdout",
     "output_type": "stream",
     "text": [
      "[4, 2222, 6] [4, 5, 6]\n"
     ]
    }
   ],
   "source": [
    "c[1] = 2222\n",
    "print(c,a)"
   ]
  },
  {
   "cell_type": "code",
   "execution_count": 22,
   "metadata": {},
   "outputs": [
    {
     "data": {
      "text/plain": [
       "False"
      ]
     },
     "execution_count": 22,
     "metadata": {},
     "output_type": "execute_result"
    }
   ],
   "source": [
    "a=[1,2,[3,4]]\n",
    "d=copy.copy(a)\n",
    "id(a)==id(c)"
   ]
  },
  {
   "cell_type": "code",
   "execution_count": 23,
   "metadata": {},
   "outputs": [
    {
     "data": {
      "text/plain": [
       "True"
      ]
     },
     "execution_count": 23,
     "metadata": {},
     "output_type": "execute_result"
    }
   ],
   "source": [
    "id(a[2])==id(d[2])"
   ]
  },
  {
   "cell_type": "code",
   "execution_count": 24,
   "metadata": {},
   "outputs": [
    {
     "data": {
      "text/plain": [
       "[1, 2, [333, 4]]"
      ]
     },
     "execution_count": 24,
     "metadata": {},
     "output_type": "execute_result"
    }
   ],
   "source": [
    "a[2][0]=333\n",
    "d # 更改了a的内部元素，d的列表元素也同步更新"
   ]
  },
  {
   "cell_type": "code",
   "execution_count": 26,
   "metadata": {},
   "outputs": [
    {
     "data": {
      "text/plain": [
       "[1, 2, [23333, 4]]"
      ]
     },
     "execution_count": 26,
     "metadata": {},
     "output_type": "execute_result"
    }
   ],
   "source": [
    "# deepcopy no change \n",
    "\n",
    "e = copy.deepcopy(a)\n",
    "\n",
    "a[2][0]=23333\n",
    "\n",
    "e"
   ]
  },
  {
   "cell_type": "markdown",
   "metadata": {},
   "source": [
    "### Pickle"
   ]
  },
  {
   "cell_type": "code",
   "execution_count": 27,
   "metadata": {
    "collapsed": true
   },
   "outputs": [],
   "source": [
    "import pickle\n",
    "\n",
    "a_dict = {'da': 111, 2: [23,1,4], '23': {1:2,'d':'sad'}}\n",
    "\n",
    "file = open('pickle_example.pickle','wb')\n",
    "pickle.dump(a_dict, file)\n",
    "file.close()"
   ]
  },
  {
   "cell_type": "code",
   "execution_count": 28,
   "metadata": {},
   "outputs": [
    {
     "name": "stdout",
     "output_type": "stream",
     "text": [
      "{'da': 111, 2: [23, 1, 4], '23': {1: 2, 'd': 'sad'}}\n"
     ]
    }
   ],
   "source": [
    "# reload a file to a variable\n",
    "with open('pickle_example.pickle', 'rb') as file:\n",
    "    a_dict1 = pickle.load(file)\n",
    "print(a_dict)"
   ]
  },
  {
   "cell_type": "markdown",
   "metadata": {},
   "source": [
    "### Set 找不同"
   ]
  },
  {
   "cell_type": "code",
   "execution_count": 29,
   "metadata": {
    "collapsed": true
   },
   "outputs": [],
   "source": [
    "char_list = ['a', 'b', 'c', 'c', 'd', 'd', 'd']\n",
    "\n",
    "sentence = 'Welcome Back to This Tutorial'"
   ]
  },
  {
   "cell_type": "code",
   "execution_count": 30,
   "metadata": {},
   "outputs": [
    {
     "name": "stdout",
     "output_type": "stream",
     "text": [
      "{'a', 'd', 'b', 'c'}\n",
      "{'B', 'W', 'm', 'u', 'T', 's', 'o', 'h', 'r', 'c', 'a', 't', 'l', ' ', 'i', 'e', 'k'}\n"
     ]
    }
   ],
   "source": [
    "print(set(char_list))\n",
    "print(set(sentence))"
   ]
  },
  {
   "cell_type": "code",
   "execution_count": 35,
   "metadata": {},
   "outputs": [
    {
     "name": "stdout",
     "output_type": "stream",
     "text": [
      "{'d', 'a', 'c', 'b', 'x'}\n"
     ]
    }
   ],
   "source": [
    "unique = set(char_list)\n",
    "unique.add('x')\n",
    "print(unique)"
   ]
  },
  {
   "cell_type": "code",
   "execution_count": 36,
   "metadata": {
    "collapsed": true
   },
   "outputs": [],
   "source": [
    "unique.remove('x')\n",
    "unique.discard('d')"
   ]
  },
  {
   "cell_type": "code",
   "execution_count": 37,
   "metadata": {},
   "outputs": [
    {
     "name": "stdout",
     "output_type": "stream",
     "text": [
      "{'a', 'c', 'b'}\n"
     ]
    }
   ],
   "source": [
    "print(unique)"
   ]
  },
  {
   "cell_type": "code",
   "execution_count": 40,
   "metadata": {
    "collapsed": true
   },
   "outputs": [],
   "source": [
    "unique.clear() # 元素全清了"
   ]
  },
  {
   "cell_type": "code",
   "execution_count": 41,
   "metadata": {},
   "outputs": [
    {
     "data": {
      "text/plain": [
       "set()"
      ]
     },
     "execution_count": 41,
     "metadata": {},
     "output_type": "execute_result"
    }
   ],
   "source": [
    "unique"
   ]
  },
  {
   "cell_type": "code",
   "execution_count": 42,
   "metadata": {},
   "outputs": [
    {
     "name": "stdout",
     "output_type": "stream",
     "text": [
      "{'b', 'd', 'c'}\n"
     ]
    }
   ],
   "source": [
    "unique_char = set(char_list)\n",
    "print(unique_char.difference({'a', 'e', 'i'}))"
   ]
  },
  {
   "cell_type": "code",
   "execution_count": 43,
   "metadata": {},
   "outputs": [
    {
     "name": "stdout",
     "output_type": "stream",
     "text": [
      "{'a'}\n"
     ]
    }
   ],
   "source": [
    "print(unique_char.intersection({'a', 'e', 'i'}))"
   ]
  },
  {
   "cell_type": "code",
   "execution_count": null,
   "metadata": {
    "collapsed": true
   },
   "outputs": [],
   "source": []
  }
 ],
 "metadata": {
  "kernelspec": {
   "display_name": "Python 3",
   "language": "python",
   "name": "python3"
  },
  "language_info": {
   "codemirror_mode": {
    "name": "ipython",
    "version": 3
   },
   "file_extension": ".py",
   "mimetype": "text/x-python",
   "name": "python",
   "nbconvert_exporter": "python",
   "pygments_lexer": "ipython3",
   "version": "3.6.4"
  }
 },
 "nbformat": 4,
 "nbformat_minor": 2
}
